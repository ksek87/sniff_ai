{
 "cells": [
  {
   "cell_type": "markdown",
   "metadata": {},
   "source": [
    "# Dataset Cleaning and Analysis"
   ]
  },
  {
   "cell_type": "code",
   "execution_count": 9,
   "metadata": {},
   "outputs": [],
   "source": [
    "import pandas as pd \n",
    "import numpy as np\n",
    "import sklearn as sk\n",
    "import os\n",
    "import sys\n",
    "import matplotlib.pyplot as plt"
   ]
  },
  {
   "cell_type": "code",
   "execution_count": 10,
   "metadata": {},
   "outputs": [
    {
     "data": {
      "text/html": [
       "<div>\n",
       "<style scoped>\n",
       "    .dataframe tbody tr th:only-of-type {\n",
       "        vertical-align: middle;\n",
       "    }\n",
       "\n",
       "    .dataframe tbody tr th {\n",
       "        vertical-align: top;\n",
       "    }\n",
       "\n",
       "    .dataframe thead th {\n",
       "        text-align: right;\n",
       "    }\n",
       "</style>\n",
       "<table border=\"1\" class=\"dataframe\">\n",
       "  <thead>\n",
       "    <tr style=\"text-align: right;\">\n",
       "      <th></th>\n",
       "      <th>Brand</th>\n",
       "      <th>Name</th>\n",
       "      <th>Description</th>\n",
       "      <th>Notes</th>\n",
       "      <th>Concepts</th>\n",
       "    </tr>\n",
       "  </thead>\n",
       "  <tbody>\n",
       "    <tr>\n",
       "      <th>0</th>\n",
       "      <td>Costume National</td>\n",
       "      <td>SEA THRU</td>\n",
       "      <td>In Sea Thru, natural and molecular notes merge...</td>\n",
       "      <td>['Sea Water', 'Lemon', 'Oakmoss', 'Cypress', '...</td>\n",
       "      <td>['Dynamic', 'Sporty', 'Summer', 'Everyday', 'C...</td>\n",
       "    </tr>\n",
       "    <tr>\n",
       "      <th>1</th>\n",
       "      <td>Gritti</td>\n",
       "      <td>HYSTERICA</td>\n",
       "      <td>Hysterica, a life explosion, tailored for thos...</td>\n",
       "      <td>['Tuberose', 'Liquor', 'Plum', 'Gardenia', 'Pa...</td>\n",
       "      <td>['Everyday', 'Floral', 'Blooming', 'Round', 'R...</td>\n",
       "    </tr>\n",
       "    <tr>\n",
       "      <th>2</th>\n",
       "      <td>4711</td>\n",
       "      <td>ORRIS &amp; SILK</td>\n",
       "      <td>A warm and floral scent with the powdery opule...</td>\n",
       "      <td>['Iris', 'Orris', 'Silk Tree Blossom. Discover...</td>\n",
       "      <td>['Everyday', 'Casual', 'Day', 'Romantic', 'Whi...</td>\n",
       "    </tr>\n",
       "    <tr>\n",
       "      <th>3</th>\n",
       "      <td>Lomani</td>\n",
       "      <td>MADEMOISELLE</td>\n",
       "      <td>Mademoiselle is the portrait of an independent...</td>\n",
       "      <td>['Jasmine', 'Vanilla (Madagascar)', 'Red Berri...</td>\n",
       "      <td>['Round', 'Everyday', 'Rich', 'Intense', 'Robu...</td>\n",
       "    </tr>\n",
       "    <tr>\n",
       "      <th>4</th>\n",
       "      <td>Lomani</td>\n",
       "      <td>ELIXIR PERFECT</td>\n",
       "      <td>An elixir that brings unconditional cheerfulne...</td>\n",
       "      <td>['Narcissus', 'Cashmeran (Woody musky)', 'Almo...</td>\n",
       "      <td>['Everyday', 'Round', 'Rich', 'Casual', 'Inten...</td>\n",
       "    </tr>\n",
       "  </tbody>\n",
       "</table>\n",
       "</div>"
      ],
      "text/plain": [
       "              Brand            Name  \\\n",
       "0  Costume National        SEA THRU   \n",
       "1            Gritti       HYSTERICA   \n",
       "2              4711    ORRIS & SILK   \n",
       "3            Lomani    MADEMOISELLE   \n",
       "4            Lomani  ELIXIR PERFECT   \n",
       "\n",
       "                                         Description  \\\n",
       "0  In Sea Thru, natural and molecular notes merge...   \n",
       "1  Hysterica, a life explosion, tailored for thos...   \n",
       "2  A warm and floral scent with the powdery opule...   \n",
       "3  Mademoiselle is the portrait of an independent...   \n",
       "4  An elixir that brings unconditional cheerfulne...   \n",
       "\n",
       "                                               Notes  \\\n",
       "0  ['Sea Water', 'Lemon', 'Oakmoss', 'Cypress', '...   \n",
       "1  ['Tuberose', 'Liquor', 'Plum', 'Gardenia', 'Pa...   \n",
       "2  ['Iris', 'Orris', 'Silk Tree Blossom. Discover...   \n",
       "3  ['Jasmine', 'Vanilla (Madagascar)', 'Red Berri...   \n",
       "4  ['Narcissus', 'Cashmeran (Woody musky)', 'Almo...   \n",
       "\n",
       "                                            Concepts  \n",
       "0  ['Dynamic', 'Sporty', 'Summer', 'Everyday', 'C...  \n",
       "1  ['Everyday', 'Floral', 'Blooming', 'Round', 'R...  \n",
       "2  ['Everyday', 'Casual', 'Day', 'Romantic', 'Whi...  \n",
       "3  ['Round', 'Everyday', 'Rich', 'Intense', 'Robu...  \n",
       "4  ['Everyday', 'Round', 'Rich', 'Casual', 'Inten...  "
      ]
     },
     "execution_count": 10,
     "metadata": {},
     "output_type": "execute_result"
    }
   ],
   "source": [
    "project_root = os.path.dirname(os.path.dirname(os.getcwd()))\n",
    "dataset_path = os.path.join(project_root, 'data_collection', 'dataset.csv')\n",
    "df = pd.read_csv(dataset_path, encoding='utf-8-sig')\n",
    "\n",
    "df.head()\n"
   ]
  },
  {
   "cell_type": "code",
   "execution_count": 11,
   "metadata": {},
   "outputs": [
    {
     "name": "stdout",
     "output_type": "stream",
     "text": [
      "<class 'pandas.core.frame.DataFrame'>\n",
      "RangeIndex: 13575 entries, 0 to 13574\n",
      "Data columns (total 5 columns):\n",
      " #   Column       Non-Null Count  Dtype \n",
      "---  ------       --------------  ----- \n",
      " 0   Brand        13575 non-null  object\n",
      " 1   Name         13575 non-null  object\n",
      " 2   Description  13571 non-null  object\n",
      " 3   Notes        13575 non-null  object\n",
      " 4   Concepts     13575 non-null  object\n",
      "dtypes: object(5)\n",
      "memory usage: 530.4+ KB\n"
     ]
    }
   ],
   "source": [
    "df.info()"
   ]
  },
  {
   "cell_type": "code",
   "execution_count": 12,
   "metadata": {},
   "outputs": [
    {
     "data": {
      "text/html": [
       "<div>\n",
       "<style scoped>\n",
       "    .dataframe tbody tr th:only-of-type {\n",
       "        vertical-align: middle;\n",
       "    }\n",
       "\n",
       "    .dataframe tbody tr th {\n",
       "        vertical-align: top;\n",
       "    }\n",
       "\n",
       "    .dataframe thead th {\n",
       "        text-align: right;\n",
       "    }\n",
       "</style>\n",
       "<table border=\"1\" class=\"dataframe\">\n",
       "  <thead>\n",
       "    <tr style=\"text-align: right;\">\n",
       "      <th></th>\n",
       "      <th>Brand</th>\n",
       "      <th>Name</th>\n",
       "      <th>Description</th>\n",
       "      <th>Notes</th>\n",
       "      <th>Concepts</th>\n",
       "    </tr>\n",
       "  </thead>\n",
       "  <tbody>\n",
       "    <tr>\n",
       "      <th>count</th>\n",
       "      <td>13575</td>\n",
       "      <td>13575</td>\n",
       "      <td>13571</td>\n",
       "      <td>13575</td>\n",
       "      <td>13575</td>\n",
       "    </tr>\n",
       "    <tr>\n",
       "      <th>unique</th>\n",
       "      <td>1114</td>\n",
       "      <td>13180</td>\n",
       "      <td>13390</td>\n",
       "      <td>13432</td>\n",
       "      <td>3655</td>\n",
       "    </tr>\n",
       "    <tr>\n",
       "      <th>top</th>\n",
       "      <td>Avon</td>\n",
       "      <td>OUD</td>\n",
       "      <td>Elegantly blended, this composition of traditi...</td>\n",
       "      <td>['Oud', 'Agarwood. Discover more details!']</td>\n",
       "      <td>['Everyday', 'Floral', 'Blooming', 'Round', 'R...</td>\n",
       "    </tr>\n",
       "    <tr>\n",
       "      <th>freq</th>\n",
       "      <td>347</td>\n",
       "      <td>14</td>\n",
       "      <td>11</td>\n",
       "      <td>7</td>\n",
       "      <td>275</td>\n",
       "    </tr>\n",
       "  </tbody>\n",
       "</table>\n",
       "</div>"
      ],
      "text/plain": [
       "        Brand   Name                                        Description  \\\n",
       "count   13575  13575                                              13571   \n",
       "unique   1114  13180                                              13390   \n",
       "top      Avon    OUD  Elegantly blended, this composition of traditi...   \n",
       "freq      347     14                                                 11   \n",
       "\n",
       "                                              Notes  \\\n",
       "count                                         13575   \n",
       "unique                                        13432   \n",
       "top     ['Oud', 'Agarwood. Discover more details!']   \n",
       "freq                                              7   \n",
       "\n",
       "                                                 Concepts  \n",
       "count                                               13575  \n",
       "unique                                               3655  \n",
       "top     ['Everyday', 'Floral', 'Blooming', 'Round', 'R...  \n",
       "freq                                                  275  "
      ]
     },
     "execution_count": 12,
     "metadata": {},
     "output_type": "execute_result"
    }
   ],
   "source": [
    "df.describe()"
   ]
  },
  {
   "cell_type": "markdown",
   "metadata": {},
   "source": [
    "## Dataset Cleaning"
   ]
  },
  {
   "cell_type": "code",
   "execution_count": 13,
   "metadata": {},
   "outputs": [
    {
     "data": {
      "text/plain": [
       "Notes\n",
       "['Oud', 'Agarwood. ']                                                                                                                                                       7\n",
       "['Bitter Orange', 'Cashmeran (Woody musky)', 'Metallic Notes', 'Lime', 'Coriander', 'Jasmine', 'Pittosporum', 'Aldehyde', 'Amber', 'Musk. ']                                6\n",
       "['Rose. ']                                                                                                                                                                  5\n",
       "['Lily Of The Valley. ']                                                                                                                                                    5\n",
       "['Vanilla. ']                                                                                                                                                               4\n",
       "                                                                                                                                                                           ..\n",
       "['Cashmeran (Woody musky)', 'Violet Leaves', 'Watery', 'Ambergris', 'Sandalwood', 'Bergamot', 'Jasmine', 'Moss', 'Musk', 'Clary Sage', 'Tonka Bean. ']                      1\n",
       "['Iris', 'Orris', 'Bergamot', 'Leather', 'Jasmine', 'Musk', 'Ambrette Seed', 'Aldehyde', 'Amber', 'Cardamom', 'Incense', 'Olibanum', 'Mate', 'Patchouli', 'Chocolate. ']    1\n",
       "['Peony', 'Sandalwood', 'Blackcurrant Bud', 'Orange Blossom', 'Rose', 'Peach', 'Pear', 'Cedarwood', 'Mandarin', 'Musk', 'Pink Pepper. ']                                    1\n",
       "['Freesia', 'Bergamot', 'Amber', 'Lily Of The Valley', 'Lemon', 'Mandarin', 'Cypress', 'Ginger', 'Incense', 'Olibanum', 'Lavender', 'Musk', 'Pepper', 'Sandalwood. ']       1\n",
       "['Tuberose', 'Liquor', 'Plum', 'Gardenia', 'Palisander Rosewood', 'Benzoin', 'Honey', 'Vanilla', 'White Pepper', 'Bubble Gum. ']                                            1\n",
       "Name: count, Length: 13432, dtype: int64"
      ]
     },
     "execution_count": 13,
     "metadata": {},
     "output_type": "execute_result"
    }
   ],
   "source": [
    "df['Notes'] = df['Notes'].str.replace('Discover more details!', '', regex=False)\n",
    "df['Notes'].value_counts()"
   ]
  },
  {
   "cell_type": "code",
   "execution_count": 14,
   "metadata": {},
   "outputs": [],
   "source": [
    "# Save the updated dataframe to a new CSV file\n",
    "updated_dataset_path = os.path.join(project_root, 'data_collection', 'updated_dataset.csv')\n",
    "df.to_csv(updated_dataset_path, index=False, encoding='utf-8-sig')"
   ]
  },
  {
   "cell_type": "code",
   "execution_count": 15,
   "metadata": {},
   "outputs": [
    {
     "data": {
      "image/png": "[encoded data removed]",
      "text/plain": [
       "<Figure size 1000x600 with 1 Axes>"
      ]
     },
     "metadata": {},
     "output_type": "display_data"
    }
   ],
   "source": [
    "# Split the concepts into individual items\n",
    "concepts_series = df['Concepts'].apply(lambda x: pd.Series(x.strip(\"[]\").replace(\"'\", \"\").split(\", \"))).stack().reset_index(drop=True)\n",
    "# Count the occurrences of each concept\n",
    "concept_counts = concepts_series.value_counts().head(10)\n",
    "# Plot the most occurring concepts\n",
    "plt.figure(figsize=(10, 6))\n",
    "concept_counts.plot(kind='bar')\n",
    "plt.title('Top 10 Most Occurring Concepts')\n",
    "plt.xlabel('Concepts')\n",
    "plt.ylabel('Frequency')\n",
    "plt.show()"
   ]
  },
  {
   "cell_type": "code",
   "execution_count": 16,
   "metadata": {},
   "outputs": [
    {
     "name": "stdout",
     "output_type": "stream",
     "text": [
      "282\n"
     ]
    }
   ],
   "source": [
    "num_unique_concepts = concepts_series.nunique()\n",
    "print(num_unique_concepts)"
   ]
  },
  {
   "cell_type": "code",
   "execution_count": null,
   "metadata": {
    "vscode": {
     "languageId": "r"
    }
   },
   "outputs": [],
   "source": [
    "# Count the occurrences of each brand\n",
    "brand_counts = df['Brand'].value_counts()\n",
    "\n",
    "# Filter the top 30 brands\n",
    "top_100_brands = brand_counts.head(30)\n",
    "\n",
    "# Plot the distribution of the top 100 brands\n",
    "plt.figure(figsize=(12, 8))\n",
    "top_100_brands.plot(kind='bar')\n",
    "plt.title('Distribution of Top 30 Brands')\n",
    "plt.xlabel('Brand')\n",
    "plt.ylabel('Frequency')\n",
    "plt.show()\n",
    "plt.show()"
   ]
  }
 ],
 "metadata": {
  "kernelspec": {
   "display_name": ".venv",
   "language": "python",
   "name": "python3"
  },
  "language_info": {
   "codemirror_mode": {
    "name": "ipython",
    "version": 3
   },
   "file_extension": ".py",
   "mimetype": "text/x-python",
   "name": "python",
   "nbconvert_exporter": "python",
   "pygments_lexer": "ipython3",
   "version": "3.9.7"
  }
 },
 "nbformat": 4,
 "nbformat_minor": 2
}
