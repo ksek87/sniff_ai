{
 "cells": [
  {
   "cell_type": "code",
   "execution_count": 5,
   "id": "import-libraries",
   "metadata": {},
   "outputs": [],
   "source": [
    "# Import necessary libraries\n",
    "import pandas as pd\n",
    "from transformers import GPT2LMHeadModel, GPT2Tokenizer, Trainer, TrainingArguments\n",
    "from datasets import Dataset\n",
    "import os"
   ]
  },
  {
   "cell_type": "code",
   "execution_count": 6,
   "id": "load-dataset",
   "metadata": {},
   "outputs": [],
   "source": [
    "project_root = os.path.dirname(os.path.dirname(os.getcwd()))\n",
    "dataset_path = os.path.join(project_root, 'data_collection', 'dataset.csv')\n",
    "df = pd.read_csv(dataset_path, encoding='utf-8-sig')\n",
    "dataset = Dataset.from_pandas(df)"
   ]
  },
  {
   "cell_type": "code",
   "execution_count": 7,
   "id": "7b486178",
   "metadata": {},
   "outputs": [
    {
     "data": {
      "text/html": [
       "<div>\n",
       "<style scoped>\n",
       "    .dataframe tbody tr th:only-of-type {\n",
       "        vertical-align: middle;\n",
       "    }\n",
       "\n",
       "    .dataframe tbody tr th {\n",
       "        vertical-align: top;\n",
       "    }\n",
       "\n",
       "    .dataframe thead th {\n",
       "        text-align: right;\n",
       "    }\n",
       "</style>\n",
       "<table border=\"1\" class=\"dataframe\">\n",
       "  <thead>\n",
       "    <tr style=\"text-align: right;\">\n",
       "      <th></th>\n",
       "      <th>Brand</th>\n",
       "      <th>Name</th>\n",
       "      <th>Description</th>\n",
       "      <th>Notes</th>\n",
       "      <th>Concepts</th>\n",
       "    </tr>\n",
       "  </thead>\n",
       "  <tbody>\n",
       "    <tr>\n",
       "      <th>0</th>\n",
       "      <td>Costume National</td>\n",
       "      <td>SEA THRU</td>\n",
       "      <td>In Sea Thru, natural and molecular notes merge...</td>\n",
       "      <td>['Sea Water', 'Lemon', 'Oakmoss', 'Cypress', '...</td>\n",
       "      <td>['Dynamic', 'Sporty', 'Summer', 'Everyday', 'C...</td>\n",
       "    </tr>\n",
       "    <tr>\n",
       "      <th>1</th>\n",
       "      <td>Gritti</td>\n",
       "      <td>HYSTERICA</td>\n",
       "      <td>Hysterica, a life explosion, tailored for thos...</td>\n",
       "      <td>Hysterica, a life explosion, tailored for thos...</td>\n",
       "      <td>['Tuberose', 'Liquor', 'Plum', 'Gardenia', 'Pa...</td>\n",
       "      <td>['Everyday', 'Floral', 'Blooming', 'Round', 'R...</td>\n",
       "    </tr>\n",
       "    <tr>\n",
       "      <th>2</th>\n",
       "      <td>4711</td>\n",
       "      <td>ORRIS &amp; SILK</td>\n",
       "      <td>A warm and floral scent with the powdery opule...</td>\n",
       "      <td>['Iris', 'Orris', 'Silk Tree Blossom. Discover...</td>\n",
       "      <td>['Everyday', 'Casual', 'Day', 'Romantic', 'Whi...</td>\n",
       "    </tr>\n",
       "    <tr>\n",
       "      <th>3</th>\n",
       "      <td>Lomani</td>\n",
       "      <td>MADEMOISELLE</td>\n",
       "      <td>Mademoiselle is the portrait of an independent...</td>\n",
       "      <td>['Jasmine', 'Vanilla (Madagascar)', 'Red Berri...</td>\n",
       "      <td>['Round', 'Everyday', 'Rich', 'Intense', 'Robu...</td>\n",
       "    </tr>\n",
       "    <tr>\n",
       "      <th>4</th>\n",
       "      <td>Lomani</td>\n",
       "      <td>ELIXIR PERFECT</td>\n",
       "      <td>An elixir that brings unconditional cheerfulne...</td>\n",
       "      <td>['Narcissus', 'Cashmeran (Woody musky)', 'Almo...</td>\n",
       "      <td>['Everyday', 'Round', 'Rich', 'Casual', 'Inten...</td>\n",
       "    </tr>\n",
       "  </tbody>\n",
       "</table>\n",
       "</div>"
      ],
      "text/plain": [
       "              Brand            Name  \\\n",
       "0  Costume National        SEA THRU   \n",
       "1            Gritti       HYSTERICA   \n",
       "2              4711    ORRIS & SILK   \n",
       "3            Lomani    MADEMOISELLE   \n",
       "4            Lomani  ELIXIR PERFECT   \n",
       "\n",
       "                                         Description  \\\n",
       "0  In Sea Thru, natural and molecular notes merge...   \n",
       "1  Hysterica, a life explosion, tailored for thos...   \n",
       "2  A warm and floral scent with the powdery opule...   \n",
       "3  Mademoiselle is the portrait of an independent...   \n",
       "4  An elixir that brings unconditional cheerfulne...   \n",
       "\n",
       "                                               Notes  \\\n",
       "0  ['Sea Water', 'Lemon', 'Oakmoss', 'Cypress', '...   \n",
       "1  ['Tuberose', 'Liquor', 'Plum', 'Gardenia', 'Pa...   \n",
       "2  ['Iris', 'Orris', 'Silk Tree Blossom. Discover...   \n",
       "3  ['Jasmine', 'Vanilla (Madagascar)', 'Red Berri...   \n",
       "4  ['Narcissus', 'Cashmeran (Woody musky)', 'Almo...   \n",
       "\n",
       "                                            Concepts  \n",
       "0  ['Dynamic', 'Sporty', 'Summer', 'Everyday', 'C...  \n",
       "1  ['Everyday', 'Floral', 'Blooming', 'Round', 'R...  \n",
       "2  ['Everyday', 'Casual', 'Day', 'Romantic', 'Whi...  \n",
       "3  ['Round', 'Everyday', 'Rich', 'Intense', 'Robu...  \n",
       "4  ['Everyday', 'Round', 'Rich', 'Casual', 'Inten...  "
      ]
     },
     "execution_count": 7,
     "metadata": {},
     "output_type": "execute_result"
    }
   ],
   "source": [
    "df.head()"
   ]
  },
  {
   "cell_type": "code",
   "execution_count": null,
   "id": "0a59b5f1",
   "metadata": {},
   "outputs": [],
   "source": [
    "import ast\n",
    "\n",
    "def preprocess_function(examples):\n",
    "    combined_text = []\n",
    "    for desc, notes_str, concepts_str in zip(examples['Description'], examples['Notes'], examples['Concepts']):\n",
    "        # Convert string representations of lists to actual lists\n",
    "        notes_list = ast.literal_eval(notes_str)\n",
    "        concepts_list = ast.literal_eval(concepts_str)\n",
    "        # Combine the text\n",
    "        text = desc + ' ' + ' '.join(notes_list) + ' ' + ' '.join(concepts_list)\n",
    "        combined_text.append(text)\n",
    "    return tokenizer(combined_text, truncation=True, padding='max_length')\n",
    "\n",
    "tokenizer = GPT2Tokenizer.from_pretrained('gpt2')\n",
    "tokenized_dataset = dataset.map(preprocess_function, batched=True)\n"
   ]
  },
  {
   "cell_type": "code",
   "execution_count": null,
   "id": "fine-tune-model",
   "metadata": {},
   "outputs": [],
   "source": [
    "# Fine-tune the model\n",
    "model = GPT2LMHeadModel.from_pretrained('gpt2')\n",
    "training_args = TrainingArguments(\n",
    "    output_dir='./results',\n",
    "    num_train_epochs=3,\n",
    "    per_device_train_batch_size=4,\n",
    "    save_steps=10_000,\n",
    "    save_total_limit=2,\n",
    ")\n",
    "trainer = Trainer(\n",
    "    model=model,\n",
    "    args=training_args,\n",
    "    train_dataset=tokenized_dataset,\n",
    ")\n",
    "trainer.train()\n"
   ]
  },
  {
   "cell_type": "code",
   "execution_count": null,
   "id": "generate-descriptions",
   "metadata": {},
   "outputs": [],
   "source": [
    "# Generate fragrance descriptions\n",
    "def generate_fragrance_description(prompt):\n",
    "    inputs = tokenizer(prompt, return_tensors='pt')\n",
    "    outputs = model.generate(inputs['input_ids'], max_length=100, num_return_sequences=1)\n",
    "    return tokenizer.decode(outputs[0], skip_special_tokens=True)\n",
    "\n",
    "prompt = 'A poetic description of a fresh morning in a rose garden'\n",
    "print(generate_fragrance_description(prompt))\n"
   ]
  }
 ],
 "metadata": {
  "kernelspec": {
   "display_name": "Python 3",
   "language": "python",
   "name": "python3"
  },
  "language_info": {
   "codemirror_mode": {
    "name": "ipython",
    "version": 3
   },
   "file_extension": ".py",
   "mimetype": "text/x-python",
   "name": "python",
   "nbconvert_exporter": "python",
   "pygments_lexer": "ipython3",
   "version": "3.8.5"
  }
 },
 "nbformat": 4,
 "nbformat_minor": 5
}
